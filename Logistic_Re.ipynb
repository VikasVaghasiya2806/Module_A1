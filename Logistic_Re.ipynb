{
 "cells": [
  {
   "cell_type": "code",
   "execution_count": 1,
   "id": "07404161",
   "metadata": {},
   "outputs": [
    {
     "name": "stdout",
     "output_type": "stream",
     "text": [
      "Defaulting to user installation because normal site-packages is not writeable\n",
      "Requirement already satisfied: nltk in /home/202462003/.local/lib/python3.6/site-packages (3.6.7)\n",
      "Requirement already satisfied: joblib in /home/202462003/.local/lib/python3.6/site-packages (from nltk) (1.1.1)\n",
      "Requirement already satisfied: tqdm in /home/202462003/.local/lib/python3.6/site-packages (from nltk) (4.64.1)\n",
      "Requirement already satisfied: regex>=2021.8.3 in /home/202462003/.local/lib/python3.6/site-packages (from nltk) (2023.8.8)\n",
      "Requirement already satisfied: click in /home/202462003/.local/lib/python3.6/site-packages (from nltk) (8.0.4)\n",
      "Requirement already satisfied: importlib-resources; python_version < \"3.7\" in /home/202462003/.local/lib/python3.6/site-packages (from tqdm->nltk) (5.4.0)\n",
      "Requirement already satisfied: importlib-metadata; python_version < \"3.8\" in /home/202462003/.local/lib/python3.6/site-packages (from click->nltk) (4.8.3)\n",
      "Requirement already satisfied: zipp>=3.1.0; python_version < \"3.10\" in /home/202462003/.local/lib/python3.6/site-packages (from importlib-resources; python_version < \"3.7\"->tqdm->nltk) (3.6.0)\n",
      "Requirement already satisfied: typing-extensions>=3.6.4; python_version < \"3.8\" in /home/202462003/.local/lib/python3.6/site-packages (from importlib-metadata; python_version < \"3.8\"->click->nltk) (4.1.1)\n",
      "\u001b[33mWARNING: You are using pip version 20.1.1; however, version 21.3.1 is available.\n",
      "You should consider upgrading via the '/usr/bin/python3 -m pip install --upgrade pip' command.\u001b[0m\n"
     ]
    }
   ],
   "source": [
    "!pip install nltk"
   ]
  },
  {
   "cell_type": "code",
   "execution_count": 2,
   "id": "d7d00dfd-e4a2-4cbe-8538-0742d2dfb52b",
   "metadata": {},
   "outputs": [
    {
     "name": "stdout",
     "output_type": "stream",
     "text": [
      "Step 1: Importing necessary libraries...\n",
      "Libraries imported successfully.\n",
      "\n"
     ]
    },
    {
     "name": "stderr",
     "output_type": "stream",
     "text": [
      "[nltk_data] Downloading package punkt to /home/202462003/nltk_data...\n",
      "[nltk_data]   Package punkt is already up-to-date!\n",
      "[nltk_data] Downloading package stopwords to\n",
      "[nltk_data]     /home/202462003/nltk_data...\n",
      "[nltk_data]   Package stopwords is already up-to-date!\n"
     ]
    }
   ],
   "source": [
    "# Step 1: Import necessary libraries\n",
    "print(\"Step 1: Importing necessary libraries...\")\n",
    "import pandas as pd\n",
    "import re\n",
    "import nltk\n",
    "from sklearn.feature_extraction.text import TfidfVectorizer, ENGLISH_STOP_WORDS\n",
    "from sklearn.model_selection import train_test_split\n",
    "from sklearn.linear_model import SGDClassifier\n",
    "from sklearn.metrics import accuracy_score, classification_report\n",
    "import pickle\n",
    "import warnings\n",
    "import os\n",
    "import gc\n",
    "os.environ[\"CUDA_DEVICE_ORDER\"] = \"PCI_BUS_ID\"\n",
    "os.environ[\"CUDA_VISIBLE_DEVICES\"] = str(1)\n",
    "# Ignore any warnings for a cleaner output\n",
    "warnings.filterwarnings('ignore')\n",
    "\n",
    "# Download required NLTK data files\n",
    "nltk.download('punkt')\n",
    "nltk.download('stopwords')\n",
    "print(\"Libraries imported successfully.\\n\")"
   ]
  },
  {
   "cell_type": "code",
   "execution_count": 3,
   "id": "b7c5483a-9328-4f9b-bdbf-d0157d45f045",
   "metadata": {},
   "outputs": [
    {
     "name": "stdout",
     "output_type": "stream",
     "text": [
      "Step 2: Loading training and test datasets...\n",
      "Datasets loaded successfully.\n",
      "\n"
     ]
    }
   ],
   "source": [
    "# Step 2: Load training and test datasets\n",
    "print(\"Step 2: Loading training and test datasets...\")\n",
    "train_data_path = 'train.csv'\n",
    "test_data_path = 'test.csv'\n",
    "\n",
    "train_df = pd.read_csv(train_data_path, delimiter=',')\n",
    "test_df = pd.read_csv(test_data_path, delimiter=',')\n",
    "print(\"Datasets loaded successfully.\\n\")"
   ]
  },
  {
   "cell_type": "code",
   "execution_count": 4,
   "id": "564e15e4",
   "metadata": {},
   "outputs": [
    {
     "data": {
      "text/html": [
       "<div>\n",
       "<style scoped>\n",
       "    .dataframe tbody tr th:only-of-type {\n",
       "        vertical-align: middle;\n",
       "    }\n",
       "\n",
       "    .dataframe tbody tr th {\n",
       "        vertical-align: top;\n",
       "    }\n",
       "\n",
       "    .dataframe thead th {\n",
       "        text-align: right;\n",
       "    }\n",
       "</style>\n",
       "<table border=\"1\" class=\"dataframe\">\n",
       "  <thead>\n",
       "    <tr style=\"text-align: right;\">\n",
       "      <th></th>\n",
       "      <th>category</th>\n",
       "      <th>sub_category</th>\n",
       "      <th>crimeaditionalinfo</th>\n",
       "    </tr>\n",
       "  </thead>\n",
       "  <tbody>\n",
       "    <tr>\n",
       "      <th>0</th>\n",
       "      <td>Online and Social Media Related Crime</td>\n",
       "      <td>Cyber Bullying  Stalking  Sexting</td>\n",
       "      <td>I had continue received random calls and abusi...</td>\n",
       "    </tr>\n",
       "    <tr>\n",
       "      <th>1</th>\n",
       "      <td>Online Financial Fraud</td>\n",
       "      <td>Fraud CallVishing</td>\n",
       "      <td>The above fraudster is continuously messaging ...</td>\n",
       "    </tr>\n",
       "    <tr>\n",
       "      <th>2</th>\n",
       "      <td>Online Gambling  Betting</td>\n",
       "      <td>Online Gambling  Betting</td>\n",
       "      <td>He is acting like a police and demanding for m...</td>\n",
       "    </tr>\n",
       "    <tr>\n",
       "      <th>3</th>\n",
       "      <td>Online and Social Media Related Crime</td>\n",
       "      <td>Online Job Fraud</td>\n",
       "      <td>In apna Job I have applied for job interview f...</td>\n",
       "    </tr>\n",
       "    <tr>\n",
       "      <th>4</th>\n",
       "      <td>Online Financial Fraud</td>\n",
       "      <td>Fraud CallVishing</td>\n",
       "      <td>I received a call from lady stating that she w...</td>\n",
       "    </tr>\n",
       "  </tbody>\n",
       "</table>\n",
       "</div>"
      ],
      "text/plain": [
       "                                category                       sub_category  \\\n",
       "0  Online and Social Media Related Crime  Cyber Bullying  Stalking  Sexting   \n",
       "1                 Online Financial Fraud                  Fraud CallVishing   \n",
       "2               Online Gambling  Betting           Online Gambling  Betting   \n",
       "3  Online and Social Media Related Crime                   Online Job Fraud   \n",
       "4                 Online Financial Fraud                  Fraud CallVishing   \n",
       "\n",
       "                                  crimeaditionalinfo  \n",
       "0  I had continue received random calls and abusi...  \n",
       "1  The above fraudster is continuously messaging ...  \n",
       "2  He is acting like a police and demanding for m...  \n",
       "3  In apna Job I have applied for job interview f...  \n",
       "4  I received a call from lady stating that she w...  "
      ]
     },
     "execution_count": 4,
     "metadata": {},
     "output_type": "execute_result"
    }
   ],
   "source": [
    "train_df.head()"
   ]
  },
  {
   "cell_type": "code",
   "execution_count": 5,
   "id": "0adb155b",
   "metadata": {},
   "outputs": [
    {
     "data": {
      "text/html": [
       "<div>\n",
       "<style scoped>\n",
       "    .dataframe tbody tr th:only-of-type {\n",
       "        vertical-align: middle;\n",
       "    }\n",
       "\n",
       "    .dataframe tbody tr th {\n",
       "        vertical-align: top;\n",
       "    }\n",
       "\n",
       "    .dataframe thead th {\n",
       "        text-align: right;\n",
       "    }\n",
       "</style>\n",
       "<table border=\"1\" class=\"dataframe\">\n",
       "  <thead>\n",
       "    <tr style=\"text-align: right;\">\n",
       "      <th></th>\n",
       "      <th>category</th>\n",
       "      <th>sub_category</th>\n",
       "      <th>crimeaditionalinfo</th>\n",
       "    </tr>\n",
       "  </thead>\n",
       "  <tbody>\n",
       "    <tr>\n",
       "      <th>0</th>\n",
       "      <td>RapeGang Rape RGRSexually Abusive Content</td>\n",
       "      <td>NaN</td>\n",
       "      <td>Sir namaskar  mein Ranjit Kumar PatraPaise neh...</td>\n",
       "    </tr>\n",
       "    <tr>\n",
       "      <th>1</th>\n",
       "      <td>Online Financial Fraud</td>\n",
       "      <td>DebitCredit Card FraudSim Swap Fraud</td>\n",
       "      <td>KOTAK MAHINDRA BANK FRAUD\\r\\nFRAUD AMOUNT</td>\n",
       "    </tr>\n",
       "    <tr>\n",
       "      <th>2</th>\n",
       "      <td>Cyber Attack/ Dependent Crimes</td>\n",
       "      <td>SQL Injection</td>\n",
       "      <td>The issue actually started when I got this ema...</td>\n",
       "    </tr>\n",
       "    <tr>\n",
       "      <th>3</th>\n",
       "      <td>Online Financial Fraud</td>\n",
       "      <td>Fraud CallVishing</td>\n",
       "      <td>I am amit kumar from karwi chitrakoot I am tot...</td>\n",
       "    </tr>\n",
       "    <tr>\n",
       "      <th>4</th>\n",
       "      <td>Any Other Cyber Crime</td>\n",
       "      <td>Other</td>\n",
       "      <td>I have ordered  saree and  blouse from rinki s...</td>\n",
       "    </tr>\n",
       "  </tbody>\n",
       "</table>\n",
       "</div>"
      ],
      "text/plain": [
       "                                    category  \\\n",
       "0  RapeGang Rape RGRSexually Abusive Content   \n",
       "1                     Online Financial Fraud   \n",
       "2             Cyber Attack/ Dependent Crimes   \n",
       "3                     Online Financial Fraud   \n",
       "4                      Any Other Cyber Crime   \n",
       "\n",
       "                           sub_category  \\\n",
       "0                                   NaN   \n",
       "1  DebitCredit Card FraudSim Swap Fraud   \n",
       "2                         SQL Injection   \n",
       "3                     Fraud CallVishing   \n",
       "4                                 Other   \n",
       "\n",
       "                                  crimeaditionalinfo  \n",
       "0  Sir namaskar  mein Ranjit Kumar PatraPaise neh...  \n",
       "1          KOTAK MAHINDRA BANK FRAUD\\r\\nFRAUD AMOUNT  \n",
       "2  The issue actually started when I got this ema...  \n",
       "3  I am amit kumar from karwi chitrakoot I am tot...  \n",
       "4  I have ordered  saree and  blouse from rinki s...  "
      ]
     },
     "execution_count": 5,
     "metadata": {},
     "output_type": "execute_result"
    }
   ],
   "source": [
    "test_df.head()"
   ]
  },
  {
   "cell_type": "code",
   "execution_count": 6,
   "id": "5fb7de2c-fbff-47c2-bd39-4bf6a63897be",
   "metadata": {},
   "outputs": [
    {
     "name": "stdout",
     "output_type": "stream",
     "text": [
      "Step 3: Filling missing values in datasets...\n",
      "Missing values filled.\n",
      "\n"
     ]
    }
   ],
   "source": [
    "# Step 3: Fill missing values\n",
    "print(\"Step 3: Filling missing values in datasets...\")\n",
    "train_df['crimeaditionalinfo'] = train_df['crimeaditionalinfo'].fillna(\"\")\n",
    "test_df['crimeaditionalinfo'] = test_df['crimeaditionalinfo'].fillna(\"\")\n",
    "print(\"Missing values filled.\\n\")\n"
   ]
  },
  {
   "cell_type": "code",
   "execution_count": null,
   "id": "880f85d3",
   "metadata": {},
   "outputs": [],
   "source": []
  },
  {
   "cell_type": "code",
   "execution_count": 28,
   "id": "ce4f17a6-aef7-46a6-9915-891855d016f5",
   "metadata": {},
   "outputs": [
    {
     "name": "stdout",
     "output_type": "stream",
     "text": [
      "Step 4: Defining and applying text preprocessing function...\n",
      "Text preprocessing completed.\n",
      "\n"
     ]
    }
   ],
   "source": [
    "# Step 4: Define a text preprocessing function\n",
    "print(\"Step 4: Defining and applying text preprocessing function...\")\n",
    "\n",
    "def preprocess_text(text):\n",
    "    text = re.sub(r'\\W', ' ', str(text).lower())  # Remove special characters and lowercase\n",
    "    text = re.sub(r'\\s+', ' ', text)  # Remove extra spaces\n",
    "    text = re.sub(r'\\d+', '', text)  # Remove digits\n",
    "    words = text.split()  # Tokenize by splitting on spaces\n",
    "    words = [word for word in words if word not in ENGLISH_STOP_WORDS]  # Remove stopwords\n",
    "    return ' '.join(words)\n",
    "\n",
    "# Apply preprocessing\n",
    "train_df['cleaned_text'] = train_df['crimeaditionalinfo'].apply(preprocess_text)\n",
    "test_df['cleaned_text'] = test_df['crimeaditionalinfo'].apply(preprocess_text)\n",
    "print(\"Text preprocessing completed.\\n\")"
   ]
  },
  {
   "cell_type": "code",
   "execution_count": 29,
   "id": "b16b9256",
   "metadata": {},
   "outputs": [
    {
     "data": {
      "text/html": [
       "<div>\n",
       "<style scoped>\n",
       "    .dataframe tbody tr th:only-of-type {\n",
       "        vertical-align: middle;\n",
       "    }\n",
       "\n",
       "    .dataframe tbody tr th {\n",
       "        vertical-align: top;\n",
       "    }\n",
       "\n",
       "    .dataframe thead th {\n",
       "        text-align: right;\n",
       "    }\n",
       "</style>\n",
       "<table border=\"1\" class=\"dataframe\">\n",
       "  <thead>\n",
       "    <tr style=\"text-align: right;\">\n",
       "      <th></th>\n",
       "      <th>category</th>\n",
       "      <th>sub_category</th>\n",
       "      <th>crimeaditionalinfo</th>\n",
       "      <th>cleaned_text</th>\n",
       "    </tr>\n",
       "  </thead>\n",
       "  <tbody>\n",
       "    <tr>\n",
       "      <th>0</th>\n",
       "      <td>Online and Social Media Related Crime</td>\n",
       "      <td>Cyber Bullying  Stalking  Sexting</td>\n",
       "      <td>I had continue received random calls and abusi...</td>\n",
       "      <td>continue received random calls abusive message...</td>\n",
       "    </tr>\n",
       "    <tr>\n",
       "      <th>1</th>\n",
       "      <td>Online Financial Fraud</td>\n",
       "      <td>Fraud CallVishing</td>\n",
       "      <td>The above fraudster is continuously messaging ...</td>\n",
       "      <td>fraudster continuously messaging asking pay mo...</td>\n",
       "    </tr>\n",
       "    <tr>\n",
       "      <th>2</th>\n",
       "      <td>Online Gambling  Betting</td>\n",
       "      <td>Online Gambling  Betting</td>\n",
       "      <td>He is acting like a police and demanding for m...</td>\n",
       "      <td>acting like police demanding money adding sect...</td>\n",
       "    </tr>\n",
       "    <tr>\n",
       "      <th>3</th>\n",
       "      <td>Online and Social Media Related Crime</td>\n",
       "      <td>Online Job Fraud</td>\n",
       "      <td>In apna Job I have applied for job interview f...</td>\n",
       "      <td>apna job applied job interview telecalling res...</td>\n",
       "    </tr>\n",
       "    <tr>\n",
       "      <th>4</th>\n",
       "      <td>Online Financial Fraud</td>\n",
       "      <td>Fraud CallVishing</td>\n",
       "      <td>I received a call from lady stating that she w...</td>\n",
       "      <td>received lady stating send new phone vivo rece...</td>\n",
       "    </tr>\n",
       "  </tbody>\n",
       "</table>\n",
       "</div>"
      ],
      "text/plain": [
       "                                category                       sub_category  \\\n",
       "0  Online and Social Media Related Crime  Cyber Bullying  Stalking  Sexting   \n",
       "1                 Online Financial Fraud                  Fraud CallVishing   \n",
       "2               Online Gambling  Betting           Online Gambling  Betting   \n",
       "3  Online and Social Media Related Crime                   Online Job Fraud   \n",
       "4                 Online Financial Fraud                  Fraud CallVishing   \n",
       "\n",
       "                                  crimeaditionalinfo  \\\n",
       "0  I had continue received random calls and abusi...   \n",
       "1  The above fraudster is continuously messaging ...   \n",
       "2  He is acting like a police and demanding for m...   \n",
       "3  In apna Job I have applied for job interview f...   \n",
       "4  I received a call from lady stating that she w...   \n",
       "\n",
       "                                        cleaned_text  \n",
       "0  continue received random calls abusive message...  \n",
       "1  fraudster continuously messaging asking pay mo...  \n",
       "2  acting like police demanding money adding sect...  \n",
       "3  apna job applied job interview telecalling res...  \n",
       "4  received lady stating send new phone vivo rece...  "
      ]
     },
     "execution_count": 29,
     "metadata": {},
     "output_type": "execute_result"
    }
   ],
   "source": [
    "train_df.head()"
   ]
  },
  {
   "cell_type": "code",
   "execution_count": 30,
   "id": "46cb0240",
   "metadata": {},
   "outputs": [
    {
     "data": {
      "text/html": [
       "<div>\n",
       "<style scoped>\n",
       "    .dataframe tbody tr th:only-of-type {\n",
       "        vertical-align: middle;\n",
       "    }\n",
       "\n",
       "    .dataframe tbody tr th {\n",
       "        vertical-align: top;\n",
       "    }\n",
       "\n",
       "    .dataframe thead th {\n",
       "        text-align: right;\n",
       "    }\n",
       "</style>\n",
       "<table border=\"1\" class=\"dataframe\">\n",
       "  <thead>\n",
       "    <tr style=\"text-align: right;\">\n",
       "      <th></th>\n",
       "      <th>category</th>\n",
       "      <th>sub_category</th>\n",
       "      <th>crimeaditionalinfo</th>\n",
       "      <th>cleaned_text</th>\n",
       "    </tr>\n",
       "  </thead>\n",
       "  <tbody>\n",
       "    <tr>\n",
       "      <th>0</th>\n",
       "      <td>RapeGang Rape RGRSexually Abusive Content</td>\n",
       "      <td>NaN</td>\n",
       "      <td>Sir namaskar  mein Ranjit Kumar PatraPaise neh...</td>\n",
       "      <td>sir namaskar mein ranjit kumar patrapaise nehi...</td>\n",
       "    </tr>\n",
       "    <tr>\n",
       "      <th>1</th>\n",
       "      <td>Online Financial Fraud</td>\n",
       "      <td>DebitCredit Card FraudSim Swap Fraud</td>\n",
       "      <td>KOTAK MAHINDRA BANK FRAUD\\r\\nFRAUD AMOUNT</td>\n",
       "      <td>kotak mahindra bank fraud fraud</td>\n",
       "    </tr>\n",
       "    <tr>\n",
       "      <th>2</th>\n",
       "      <td>Cyber Attack/ Dependent Crimes</td>\n",
       "      <td>SQL Injection</td>\n",
       "      <td>The issue actually started when I got this ema...</td>\n",
       "      <td>issue actually started got email glance like s...</td>\n",
       "    </tr>\n",
       "    <tr>\n",
       "      <th>3</th>\n",
       "      <td>Online Financial Fraud</td>\n",
       "      <td>Fraud CallVishing</td>\n",
       "      <td>I am amit kumar from karwi chitrakoot I am tot...</td>\n",
       "      <td>amit kumar karwi chitrakoot totally depressed ...</td>\n",
       "    </tr>\n",
       "    <tr>\n",
       "      <th>4</th>\n",
       "      <td>Any Other Cyber Crime</td>\n",
       "      <td>Other</td>\n",
       "      <td>I have ordered  saree and  blouse from rinki s...</td>\n",
       "      <td>ordered saree blouse rinki sur paid payment di...</td>\n",
       "    </tr>\n",
       "  </tbody>\n",
       "</table>\n",
       "</div>"
      ],
      "text/plain": [
       "                                    category  \\\n",
       "0  RapeGang Rape RGRSexually Abusive Content   \n",
       "1                     Online Financial Fraud   \n",
       "2             Cyber Attack/ Dependent Crimes   \n",
       "3                     Online Financial Fraud   \n",
       "4                      Any Other Cyber Crime   \n",
       "\n",
       "                           sub_category  \\\n",
       "0                                   NaN   \n",
       "1  DebitCredit Card FraudSim Swap Fraud   \n",
       "2                         SQL Injection   \n",
       "3                     Fraud CallVishing   \n",
       "4                                 Other   \n",
       "\n",
       "                                  crimeaditionalinfo  \\\n",
       "0  Sir namaskar  mein Ranjit Kumar PatraPaise neh...   \n",
       "1          KOTAK MAHINDRA BANK FRAUD\\r\\nFRAUD AMOUNT   \n",
       "2  The issue actually started when I got this ema...   \n",
       "3  I am amit kumar from karwi chitrakoot I am tot...   \n",
       "4  I have ordered  saree and  blouse from rinki s...   \n",
       "\n",
       "                                        cleaned_text  \n",
       "0  sir namaskar mein ranjit kumar patrapaise nehi...  \n",
       "1                    kotak mahindra bank fraud fraud  \n",
       "2  issue actually started got email glance like s...  \n",
       "3  amit kumar karwi chitrakoot totally depressed ...  \n",
       "4  ordered saree blouse rinki sur paid payment di...  "
      ]
     },
     "execution_count": 30,
     "metadata": {},
     "output_type": "execute_result"
    }
   ],
   "source": [
    "test_df.head()"
   ]
  },
  {
   "cell_type": "code",
   "execution_count": 31,
   "id": "43d57245-db7f-4bce-9418-e365e15e9efb",
   "metadata": {},
   "outputs": [
    {
     "name": "stdout",
     "output_type": "stream",
     "text": [
      "Step 6: Initializing and applying TF-IDF Vectorizer...\n",
      "TF-IDF Vectorizer applied successfully.\n",
      "\n"
     ]
    }
   ],
   "source": [
    "# Step 6: Initialize the TF-IDF Vectorizer\n",
    "print(\"Step 6: Initializing and applying TF-IDF Vectorizer...\")\n",
    "\n",
    "tfidf = TfidfVectorizer(max_features=5000)\n",
    "X_train = tfidf.fit_transform(train_df['cleaned_text'])\n",
    "y_train = train_df['category']\n",
    "X_test = tfidf.transform(test_df['cleaned_text'])\n",
    "test_labels = test_df['category']\n",
    "print(\"TF-IDF Vectorizer applied successfully.\\n\")"
   ]
  },
  {
   "cell_type": "code",
   "execution_count": 32,
   "id": "57661495-9c01-4eb7-8e16-3c7843af91fc",
   "metadata": {},
   "outputs": [
    {
     "name": "stdout",
     "output_type": "stream",
     "text": [
      "Step 7: Splitting data into train test and validation )...\n",
      "Data split completed.\n",
      "\n"
     ]
    }
   ],
   "source": [
    "# Step 7: Split into train and validation sets\n",
    "print(\"Step 7: Splitting data into train test and validation )...\")\n",
    "X_train_split, X_val_split, y_train_split, y_val_split = train_test_split(X_train, y_train, test_size=0.2, random_state=42)\n",
    "print(\"Data split completed.\\n\")"
   ]
  },
  {
   "cell_type": "code",
   "execution_count": 33,
   "id": "02910c8c-bf4a-4655-af81-ddc5dca85bfa",
   "metadata": {},
   "outputs": [
    {
     "name": "stdout",
     "output_type": "stream",
     "text": [
      "Step 8: Training the SGDClassifier on training data...\n",
      "Model training completed.\n",
      "\n"
     ]
    }
   ],
   "source": [
    "# Step 8: Train the SGDClassifier on sparse data\n",
    "print(\"Step 8: Training the SGDClassifier on training data...\")\n",
    "model = SGDClassifier(max_iter=10000, tol=1e-5)\n",
    "model.fit(X_train_split, y_train_split)\n",
    "print(\"Model training completed.\\n\")"
   ]
  },
  {
   "cell_type": "code",
   "execution_count": 34,
   "id": "12c807d3-bfd5-42e1-b6f8-d7e1d6c405e7",
   "metadata": {},
   "outputs": [
    {
     "name": "stdout",
     "output_type": "stream",
     "text": [
      "Step 9: Validating the model on validation set...\n",
      "Validation Accuracy: 0.7548297577116021\n",
      "\n"
     ]
    }
   ],
   "source": [
    "# Step 9: Validate the model\n",
    "print(\"Step 9: Validating the model on validation set...\")\n",
    "y_pred_val = model.predict(X_val_split)\n",
    "val_accuracy = accuracy_score(y_val_split, y_pred_val)\n",
    "print(f\"Validation Accuracy: {val_accuracy}\\n\")"
   ]
  },
  {
   "cell_type": "code",
   "execution_count": 35,
   "id": "a984a8bc-e33b-4ff9-b278-b28d52e19be5",
   "metadata": {},
   "outputs": [
    {
     "name": "stdout",
     "output_type": "stream",
     "text": [
      "Step 10: Evaluating model on test data...\n",
      "Classification Report on Test Data:\n",
      "                                                       precision    recall  f1-score   support\n",
      "\n",
      "                               Any Other Cyber Crime       0.54      0.05      0.10      3670\n",
      "Child Pornography CPChild Sexual Abuse Material CSAM       0.58      0.24      0.34       123\n",
      "                      Crime Against Women & Children       0.00      0.00      0.00         4\n",
      "                                Cryptocurrency Crime       0.61      0.31      0.41       166\n",
      "                      Cyber Attack/ Dependent Crimes       1.00      1.00      1.00      1261\n",
      "                                     Cyber Terrorism       0.00      0.00      0.00        52\n",
      "      Hacking  Damage to computercomputer system etc       0.44      0.10      0.16       592\n",
      "                            Online Cyber Trafficking       0.00      0.00      0.00        61\n",
      "                              Online Financial Fraud       0.77      0.98      0.86     18896\n",
      "                            Online Gambling  Betting       0.20      0.01      0.01       134\n",
      "               Online and Social Media Related Crime       0.56      0.56      0.56      4139\n",
      "                                          Ransomware       0.25      0.06      0.09        18\n",
      "           RapeGang Rape RGRSexually Abusive Content       0.99      0.91      0.94       912\n",
      "                               Sexually Explicit Act       0.16      0.01      0.02       535\n",
      "                           Sexually Obscene material       0.37      0.03      0.05       666\n",
      "\n",
      "                                            accuracy                           0.75     31229\n",
      "                                           macro avg       0.43      0.28      0.30     31229\n",
      "                                        weighted avg       0.70      0.75      0.68     31229\n",
      "\n"
     ]
    }
   ],
   "source": [
    "# Step 10: Evaluate on test data and print the classification report\n",
    "print(\"Step 10: Evaluating model on test data...\")\n",
    "y_test_pred = model.predict(X_test)\n",
    "print(\"Classification Report on Test Data:\\n\", classification_report(test_labels, y_test_pred))\n"
   ]
  },
  {
   "cell_type": "code",
   "execution_count": 36,
   "id": "25209aad-75f7-4ddf-b52f-e52dd462b076",
   "metadata": {},
   "outputs": [
    {
     "name": "stdout",
     "output_type": "stream",
     "text": [
      "Step 11: Saving the model to 'logistic_regression_model.pkl'...\n",
      "Model saved successfully.\n",
      "\n"
     ]
    }
   ],
   "source": [
    "# Step 11: Save the model\n",
    "print(\"Step 11: Saving the model to 'logistic_regression_model.pkl'...\")\n",
    "with open('logistic_regression_model.pkl', 'wb') as f:\n",
    "    pickle.dump(model, f)\n",
    "print(\"Model saved successfully.\\n\")"
   ]
  },
  {
   "cell_type": "code",
   "execution_count": 37,
   "id": "ef1660ac-3eb7-4349-afef-132831866ee0",
   "metadata": {},
   "outputs": [
    {
     "name": "stdout",
     "output_type": "stream",
     "text": [
      "Step 12: Saving test predictions to 'test_predictions.csv'...\n",
      "Test predictions saved successfully to 'test_predictions1.csv'\n",
      "\n",
      "All steps completed successfully.\n"
     ]
    }
   ],
   "source": [
    "# Step 12: Save test predictions\n",
    "print(\"Step 12: Saving test predictions to 'test_predictions.csv'...\")\n",
    "test_df['predicted_category'] = y_test_pred\n",
    "test_df.to_csv('test_predictions.csv', index=False)\n",
    "print(\"Test predictions saved successfully to 'test_predictions1.csv'\\n\")\n",
    "\n",
    "print(\"All steps completed successfully.\")"
   ]
  },
  {
   "cell_type": "code",
   "execution_count": null,
   "id": "7f5d4af9-e93a-485f-80eb-208ca691aaf6",
   "metadata": {},
   "outputs": [],
   "source": []
  }
 ],
 "metadata": {
  "kernelspec": {
   "display_name": "Python 3",
   "language": "python",
   "name": "python3"
  },
  "language_info": {
   "codemirror_mode": {
    "name": "ipython",
    "version": 3
   },
   "file_extension": ".py",
   "mimetype": "text/x-python",
   "name": "python",
   "nbconvert_exporter": "python",
   "pygments_lexer": "ipython3",
   "version": "3.6.8"
  }
 },
 "nbformat": 4,
 "nbformat_minor": 5
}
